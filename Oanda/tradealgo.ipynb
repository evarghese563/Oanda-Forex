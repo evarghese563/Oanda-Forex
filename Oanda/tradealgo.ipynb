{
 "cells": [
  {
   "cell_type": "code",
   "execution_count": 1,
   "id": "4413fa5e",
   "metadata": {},
   "outputs": [],
   "source": [
    "API = \"api-fxpractice.oanda.com/\"\n",
    "STREAM_API = \"stream-fxpractice.oanda.com/\""
   ]
  },
  {
   "cell_type": "code",
   "execution_count": 2,
   "id": "f2ed2e9c",
   "metadata": {},
   "outputs": [],
   "source": [
    "%matplotlib inline\n",
    "import requests\n",
    "import json\n",
    "import pandas as pd\n",
    "from json.decoder import JSONDecodeError\n",
    "import mplfinance as mpf\n",
    "import time"
   ]
  },
  {
   "cell_type": "code",
   "execution_count": 3,
   "id": "99ec2e68",
   "metadata": {},
   "outputs": [],
   "source": [
    "class create:\n",
    "    \n",
    "    def __init__(self, instrument, ltp):\n",
    "        self.instrument = instrument\n",
    "        self.ltp = ltp\n",
    "        \n",
    "        dictionary = {\n",
    "            instrument : ltp\n",
    "        }\n",
    "        \n",
    "        with open(\"ltp.json\", 'r+') as file:\n",
    "            try:  \n",
    "                old_data = json.load(file)\n",
    "                old_data.update(dictionary)\n",
    "                json.dump(old_data,file)\n",
    "            except JSONDecodeError:\n",
    "                json.dump(dictionary, file)"
   ]
  },
  {
   "cell_type": "code",
   "execution_count": 4,
   "id": "e5b19927",
   "metadata": {},
   "outputs": [],
   "source": [
    "def json_to_pandas(json):\n",
    "    data = response.json()\n",
    "    price_json = data[\"candles\"]\n",
    "    times,close_price,high_price,low_price,open_price =[], [], [], [], []\n",
    "\n",
    "    for candle in price_json:\n",
    "        d = candle[\"time\"]\n",
    "        d = d[:10]\n",
    "        times.append(d)\n",
    "        close_price.append(float(candle[\"mid\"][\"c\"]))\n",
    "        high_price.append(float(candle[\"mid\"][\"h\"]))\n",
    "        low_price.append(float(candle[\"mid\"][\"l\"]))\n",
    "        open_price.append(float(candle[\"mid\"][\"o\"]))\n",
    "\n",
    "    #dates,opens,highs,lows,closes\n",
    "    df = pd.DataFrame({'Date':times, \"Open\":open_price, \"High\": high_price, \"Low\": low_price, \"Close\":close_price})\n",
    "    df['Date']  =pd.to_datetime(df['Date'])\n",
    "    df = df.set_index('Date')\n",
    "    \n",
    "    \n",
    "    \n",
    "    return df\n",
    "        "
   ]
  },
  {
   "cell_type": "code",
   "execution_count": 5,
   "id": "a77b5407",
   "metadata": {},
   "outputs": [],
   "source": [
    "pricingPath = \"v3/accounts/ENTER ACCOUNT ID/pricing\"\n"
   ]
  },
  {
   "cell_type": "code",
   "execution_count": 6,
   "id": "d95d3dfa",
   "metadata": {},
   "outputs": [],
   "source": [
    "#Europe/US\n",
    "\n",
    "query = {\"instruments\": \"EUR_USD\"}\n",
    "headers = {\"Authorization\": \"Bearer \" +  \"ENTER OANDA API KEY\"}"
   ]
  },
  {
   "cell_type": "code",
   "execution_count": 7,
   "id": "8ba343e3",
   "metadata": {},
   "outputs": [],
   "source": [
    "response = requests.get(\"https://\"+API+pricingPath, headers=headers,params=query)\n"
   ]
  },
  {
   "cell_type": "code",
   "execution_count": 8,
   "id": "a5b9c87a",
   "metadata": {},
   "outputs": [
    {
     "data": {
      "text/plain": [
       "{'time': '2021-06-23T06:23:30.949532293Z',\n",
       " 'prices': [{'type': 'PRICE',\n",
       "   'time': '2021-06-23T06:23:28.683972930Z',\n",
       "   'bids': [{'price': '1.19229', 'liquidity': 10000000}],\n",
       "   'asks': [{'price': '1.19242', 'liquidity': 10000000}],\n",
       "   'closeoutBid': '1.19229',\n",
       "   'closeoutAsk': '1.19242',\n",
       "   'status': 'tradeable',\n",
       "   'tradeable': True,\n",
       "   'unitsAvailable': {'default': {'long': '4193364', 'short': '4193364'},\n",
       "    'openOnly': {'long': '4193364', 'short': '4193364'},\n",
       "    'reduceFirst': {'long': '4193364', 'short': '4193364'},\n",
       "    'reduceOnly': {'long': '0', 'short': '0'}},\n",
       "   'quoteHomeConversionFactors': {'positiveUnits': '1.00000000',\n",
       "    'negativeUnits': '1.00000000'},\n",
       "   'instrument': 'EUR_USD'}]}"
      ]
     },
     "execution_count": 8,
     "metadata": {},
     "output_type": "execute_result"
    }
   ],
   "source": [
    "response.json()"
   ]
  },
  {
   "cell_type": "code",
   "execution_count": 9,
   "id": "f9a7c9cb",
   "metadata": {
    "scrolled": true
   },
   "outputs": [],
   "source": [
    "json_response = response.json()\n",
    "instrument = json_response[\"prices\"][0][\"instrument\"]\n",
    "prices = json_response[\"prices\"][0][\"closeoutBid\"]\n",
    "prices = float(prices)\n",
    "ltp1=create(instrument,prices)\n"
   ]
  },
  {
   "cell_type": "code",
   "execution_count": null,
   "id": "5d83067a",
   "metadata": {},
   "outputs": [],
   "source": []
  },
  {
   "cell_type": "code",
   "execution_count": null,
   "id": "0b70fc9d",
   "metadata": {},
   "outputs": [],
   "source": []
  },
  {
   "cell_type": "code",
   "execution_count": 10,
   "id": "2b369648",
   "metadata": {},
   "outputs": [],
   "source": [
    "#Creating Candlestick Chart for First Quarter\n",
    "\n",
    "from_time = time.mktime(pd.to_datetime(\"01/01/2021\").timetuple())\n",
    "to_time = time.mktime(pd.to_datetime(\"04/02/2021\").timetuple())"
   ]
  },
  {
   "cell_type": "code",
   "execution_count": 11,
   "id": "6d5829d7",
   "metadata": {},
   "outputs": [],
   "source": [
    "#1 Day Intervals\n",
    "query = {\"from\":str(from_time), \"to\":str(to_time), \"granularity\":\"D\"}"
   ]
  },
  {
   "cell_type": "code",
   "execution_count": 12,
   "id": "9cb691c7",
   "metadata": {},
   "outputs": [],
   "source": [
    "candlesPath = \"v3/accounts/ENTER ACCOUNT ID/instruments/\""
   ]
  },
  {
   "cell_type": "code",
   "execution_count": 13,
   "id": "f6ca549b",
   "metadata": {},
   "outputs": [],
   "source": [
    "response = requests.get(\"https://\"+API+candlesPath+instrument+\"/candles\", headers=headers,params=query)"
   ]
  },
  {
   "cell_type": "code",
   "execution_count": 14,
   "id": "51e03645",
   "metadata": {},
   "outputs": [],
   "source": [
    "EURUSD_df = json_to_pandas(response)"
   ]
  },
  {
   "cell_type": "code",
   "execution_count": 15,
   "id": "abd4e6ed",
   "metadata": {},
   "outputs": [
    {
     "data": {
      "text/html": [
       "<div>\n",
       "<style scoped>\n",
       "    .dataframe tbody tr th:only-of-type {\n",
       "        vertical-align: middle;\n",
       "    }\n",
       "\n",
       "    .dataframe tbody tr th {\n",
       "        vertical-align: top;\n",
       "    }\n",
       "\n",
       "    .dataframe thead th {\n",
       "        text-align: right;\n",
       "    }\n",
       "</style>\n",
       "<table border=\"1\" class=\"dataframe\">\n",
       "  <thead>\n",
       "    <tr style=\"text-align: right;\">\n",
       "      <th></th>\n",
       "      <th>Open</th>\n",
       "      <th>High</th>\n",
       "      <th>Low</th>\n",
       "      <th>Close</th>\n",
       "    </tr>\n",
       "    <tr>\n",
       "      <th>Date</th>\n",
       "      <th></th>\n",
       "      <th></th>\n",
       "      <th></th>\n",
       "      <th></th>\n",
       "    </tr>\n",
       "  </thead>\n",
       "  <tbody>\n",
       "    <tr>\n",
       "      <th>2020-12-30</th>\n",
       "      <td>1.22979</td>\n",
       "      <td>1.23094</td>\n",
       "      <td>1.22088</td>\n",
       "      <td>1.22156</td>\n",
       "    </tr>\n",
       "    <tr>\n",
       "      <th>2021-01-03</th>\n",
       "      <td>1.22400</td>\n",
       "      <td>1.23098</td>\n",
       "      <td>1.22303</td>\n",
       "      <td>1.22525</td>\n",
       "    </tr>\n",
       "    <tr>\n",
       "      <th>2021-01-04</th>\n",
       "      <td>1.22525</td>\n",
       "      <td>1.23057</td>\n",
       "      <td>1.22458</td>\n",
       "      <td>1.22986</td>\n",
       "    </tr>\n",
       "    <tr>\n",
       "      <th>2021-01-05</th>\n",
       "      <td>1.22986</td>\n",
       "      <td>1.23496</td>\n",
       "      <td>1.22656</td>\n",
       "      <td>1.23272</td>\n",
       "    </tr>\n",
       "    <tr>\n",
       "      <th>2021-01-06</th>\n",
       "      <td>1.23264</td>\n",
       "      <td>1.23446</td>\n",
       "      <td>1.22450</td>\n",
       "      <td>1.22692</td>\n",
       "    </tr>\n",
       "    <tr>\n",
       "      <th>...</th>\n",
       "      <td>...</td>\n",
       "      <td>...</td>\n",
       "      <td>...</td>\n",
       "      <td>...</td>\n",
       "    </tr>\n",
       "    <tr>\n",
       "      <th>2021-03-25</th>\n",
       "      <td>1.17650</td>\n",
       "      <td>1.18050</td>\n",
       "      <td>1.17650</td>\n",
       "      <td>1.17941</td>\n",
       "    </tr>\n",
       "    <tr>\n",
       "      <th>2021-03-28</th>\n",
       "      <td>1.17941</td>\n",
       "      <td>1.17948</td>\n",
       "      <td>1.17606</td>\n",
       "      <td>1.17650</td>\n",
       "    </tr>\n",
       "    <tr>\n",
       "      <th>2021-03-29</th>\n",
       "      <td>1.17640</td>\n",
       "      <td>1.17764</td>\n",
       "      <td>1.17114</td>\n",
       "      <td>1.17158</td>\n",
       "    </tr>\n",
       "    <tr>\n",
       "      <th>2021-03-30</th>\n",
       "      <td>1.17175</td>\n",
       "      <td>1.17600</td>\n",
       "      <td>1.17042</td>\n",
       "      <td>1.17308</td>\n",
       "    </tr>\n",
       "    <tr>\n",
       "      <th>2021-03-31</th>\n",
       "      <td>1.17298</td>\n",
       "      <td>1.17800</td>\n",
       "      <td>1.17126</td>\n",
       "      <td>1.17774</td>\n",
       "    </tr>\n",
       "  </tbody>\n",
       "</table>\n",
       "<p>65 rows × 4 columns</p>\n",
       "</div>"
      ],
      "text/plain": [
       "               Open     High      Low    Close\n",
       "Date                                          \n",
       "2020-12-30  1.22979  1.23094  1.22088  1.22156\n",
       "2021-01-03  1.22400  1.23098  1.22303  1.22525\n",
       "2021-01-04  1.22525  1.23057  1.22458  1.22986\n",
       "2021-01-05  1.22986  1.23496  1.22656  1.23272\n",
       "2021-01-06  1.23264  1.23446  1.22450  1.22692\n",
       "...             ...      ...      ...      ...\n",
       "2021-03-25  1.17650  1.18050  1.17650  1.17941\n",
       "2021-03-28  1.17941  1.17948  1.17606  1.17650\n",
       "2021-03-29  1.17640  1.17764  1.17114  1.17158\n",
       "2021-03-30  1.17175  1.17600  1.17042  1.17308\n",
       "2021-03-31  1.17298  1.17800  1.17126  1.17774\n",
       "\n",
       "[65 rows x 4 columns]"
      ]
     },
     "execution_count": 15,
     "metadata": {},
     "output_type": "execute_result"
    }
   ],
   "source": [
    "EURUSD_df"
   ]
  },
  {
   "cell_type": "code",
   "execution_count": 16,
   "id": "cd544012",
   "metadata": {
    "scrolled": false
   },
   "outputs": [
    {
     "data": {
      "image/png": "[encoded data removed]",
      "text/plain": [
       "<Figure size 800x575 with 2 Axes>"
      ]
     },
     "metadata": {},
     "output_type": "display_data"
    }
   ],
   "source": [
    "mpf.plot(EURUSD_df, type = 'candle', style= 'yahoo', title = 'EUR-USD', ylabel='Price')"
   ]
  },
  {
   "cell_type": "code",
   "execution_count": null,
   "id": "4e426b97",
   "metadata": {},
   "outputs": [],
   "source": []
  }
 ],
 "metadata": {
  "kernelspec": {
   "display_name": "Python 3",
   "language": "python",
   "name": "python3"
  },
  "language_info": {
   "codemirror_mode": {
    "name": "ipython",
    "version": 3
   },
   "file_extension": ".py",
   "mimetype": "text/x-python",
   "name": "python",
   "nbconvert_exporter": "python",
   "pygments_lexer": "ipython3",
   "version": "3.8.2"
  }
 },
 "nbformat": 4,
 "nbformat_minor": 5
}
